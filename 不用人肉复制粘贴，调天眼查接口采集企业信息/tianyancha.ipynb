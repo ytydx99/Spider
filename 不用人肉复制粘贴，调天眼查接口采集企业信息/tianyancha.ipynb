{
 "cells": [
  {
   "cell_type": "code",
   "execution_count": 2,
   "metadata": {},
   "outputs": [
    {
     "name": "stdout",
     "output_type": "stream",
     "text": [
      "深圳市鸿泰详进出口有限公司, , ,\n"
     ]
    }
   ],
   "source": [
    "import json\n",
    "import requests\n",
    "import urllib.parse\n",
    "\n",
    "#字典，存储每个公司对应的接口返回结果，万一程序对结果字段处理有问题，可以直接补救，不用重新请求接口，浪费余额\n",
    "total_result = {}\n",
    "\n",
    "headers={}\n",
    "headers['Authorization']=替换为天眼查给你分配的token\n",
    "\n",
    "#存储了企业名称的文件，一行一个企业\n",
    "fp = open(替换为保存企业名称文件的路径,'r',encoding='UTF-8')\n",
    "for name in fp.readlines():\n",
    "    name = name.strip()\n",
    "    name_encode = urllib.parse.quote(name)\n",
    "    url='http://open.api.tianyancha.com/services/open/ic/baseinfoV2/2.0?name='+name_encode\n",
    "    r = requests.get(url,verify=False, headers=headers)\n",
    "    result= json.loads(r.text)\n",
    "    total_result[name] = result;\n",
    "    if result['error_code'] == 0:\n",
    "        #error_code为0，查询到企业数据\n",
    "        reg_location = result['result']['regLocation']\n",
    "        legal_person_name = result['result']['legalPersonName']\n",
    "        phone_number = result['result']['phoneNumber']\n",
    "        # 因为 phoneNumber 不存在的时候会返回 None，直接做字符串拼接会报异常\n",
    "        if phone_number == None:\n",
    "            phone_number = \"\"\n",
    "        \n",
    "        try:\n",
    "            #注意 print 自带换行，这里就不用加\"\\n\"了\n",
    "            print(name+','+reg_location+','+legal_person_name+','+phone_number)\n",
    "        except:\n",
    "            #异常要处理好，要有兜底方案（至少打印企业名并继续执行下一个）\n",
    "            #每次请求都是钱\n",
    "            print(name + \", , ,\")\n",
    "    else:\n",
    "        #error_code非0，查不到企业数据，只打印名称，后面再人工来补\n",
    "        print(name+\", , ,\")\n",
    "    \n",
    "fp.close()"
   ]
  },
  {
   "cell_type": "code",
   "execution_count": 3,
   "metadata": {},
   "outputs": [
    {
     "name": "stdout",
     "output_type": "stream",
     "text": [
      "{'深圳市鸿泰详进出口有限公司': {'result': None, 'reason': '无数据', 'error_code': 300000}}\n"
     ]
    }
   ],
   "source": [
    "print(total_result)"
   ]
  },
  {
   "cell_type": "code",
   "execution_count": null,
   "metadata": {},
   "outputs": [],
   "source": []
  }
 ],
 "metadata": {
  "kernelspec": {
   "display_name": "Python 3",
   "language": "python",
   "name": "python3"
  },
  "language_info": {
   "codemirror_mode": {
    "name": "ipython",
    "version": 3
   },
   "file_extension": ".py",
   "mimetype": "text/x-python",
   "name": "python",
   "nbconvert_exporter": "python",
   "pygments_lexer": "ipython3",
   "version": "3.7.4"
  }
 },
 "nbformat": 4,
 "nbformat_minor": 2
}
